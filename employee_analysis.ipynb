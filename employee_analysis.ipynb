{
 "cells": [
  {
   "cell_type": "markdown",
   "metadata": {},
   "source": ["# 📊 Employee Performance Analysis"]
  },
  {
   "cell_type": "code",
   "execution_count": null,
   "metadata": {},
   "outputs": [],
   "source": [
    "import pandas as pd\n",
    "import matplotlib.pyplot as plt\n",
    "\n",
    "# Load data\n",
    "df = pd.read_csv('../data/employee_data.csv')\n",
    "df.dropna(inplace=True)\n",
    "\n",
    "# KPI Analysis\n",
    "top_kpi = df.sort_values(by='KPI Score', ascending=False).head(5)\n",
    "\n",
    "# Plot\n",
    "plt.figure(figsize=(8,5))\n",
    "plt.bar(top_kpi['Employee Name'], top_kpi['KPI Score'])\n",
    "plt.title('Top 5 Employees by KPI Score')\n",
    "plt.xlabel('Employee')\n",
    "plt.ylabel('KPI Score')\n",
    "plt.tight_layout()\n",
    "plt.show()"
   ]
  }
 ],
 "metadata": {
  "kernelspec": {
   "display_name": "Python 3",
   "language": "python",
   "name": "python3"
  },
  "language_info": {
   "name": "python",
   "version": ""
  }
 },
 "nbformat": 4,
 "nbformat_minor": 2
}